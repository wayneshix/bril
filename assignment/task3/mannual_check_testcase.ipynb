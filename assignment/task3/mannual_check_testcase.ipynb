{
 "cells": [
  {
   "cell_type": "code",
   "execution_count": 1,
   "metadata": {},
   "outputs": [],
   "source": [
    "import os\n",
    "import subprocess\n",
    "\n",
    "def run_test(optimizer_script, test_dir, test_name, args=None):\n",
    "    \"\"\"\n",
    "    Run a single Bril test with the provided optimizer script and optional arguments.\n",
    "\n",
    "    Parameters:\n",
    "    optimizer_script (str): Path to the optimizer Python script.\n",
    "    test_dir (str): Path to the directory containing subfolders and .bril tests.\n",
    "    test_name (str): Name of the .bril test file to run (without the .bril extension).\n",
    "    args (list): Optional list of arguments to pass to the Bril program.\n",
    "    \"\"\"\n",
    "\n",
    "    # Find the test file within the directory structure\n",
    "    test_file = None\n",
    "    for root, _, files in os.walk(test_dir):\n",
    "        if test_file:\n",
    "            break\n",
    "        for file in files:\n",
    "            if file == f\"{test_name}.bril\":\n",
    "                test_file = os.path.join(root, file)\n",
    "                break\n",
    "\n",
    "    if not test_file:\n",
    "        print(f\"Test '{test_name}' not found in the directory '{test_dir}'.\")\n",
    "        return\n",
    "\n",
    "    print(f\"Running test for {test_file}\")\n",
    "\n",
    "    try:\n",
    "        # Read the contents of the Bril file\n",
    "        with open(test_file, 'r') as f:\n",
    "            bril_text = f.read()\n",
    "\n",
    "        # Convert args list into a string\n",
    "        args_str = ' '.join(map(str, args)) if args else \"\"\n",
    "\n",
    "        # Build the pipeline command\n",
    "        pipeline_cmd = f\"bril2json | python3 {optimizer_script} | brili -p {args_str}\"\n",
    "\n",
    "        # Run the pipeline\n",
    "        process = subprocess.run(\n",
    "            pipeline_cmd,\n",
    "            input=bril_text,\n",
    "            text=True,\n",
    "            shell=True,\n",
    "            capture_output=True\n",
    "        )\n",
    "\n",
    "        # Check for errors\n",
    "        if process.returncode != 0:\n",
    "            print(f\"Error running pipeline:\\n{process.stderr}\")\n",
    "            return\n",
    "\n",
    "        # Print the result\n",
    "        print(f\"Test '{test_name}' ran successfully with the optimizer.\")\n",
    "        print(f\"Run Output:\\n{process.stdout}\")\n",
    "\n",
    "    except FileNotFoundError as e:\n",
    "        print(f\"Command not found: {e}\")\n",
    "    except Exception as e:\n",
    "        print(f\"An unexpected error occurred: {e}\")"
   ]
  },
  {
   "cell_type": "code",
   "execution_count": 2,
   "metadata": {},
   "outputs": [
    {
     "name": "stdout",
     "output_type": "stream",
     "text": [
      "Running test for /Users/way/projects/bril/benchmarks/core/mod_inv.bril\n",
      "Test 'mod_inv' ran successfully with the optimizer.\n",
      "Run Output:\n",
      "2393\n",
      "\n"
     ]
    }
   ],
   "source": [
    "run_test('/Users/way/projects/bril/assignment/task3/loop_optimization_2.py', '/Users/way/projects/bril/benchmarks', 'mod_inv', args= [46,10007])"
   ]
  },
  {
   "cell_type": "code",
   "execution_count": 3,
   "metadata": {},
   "outputs": [
    {
     "name": "stdout",
     "output_type": "stream",
     "text": [
      "Running test for /Users/way/projects/bril/benchmarks/mem/two-sum.bril\n",
      "Test 'two-sum' ran successfully with the optimizer.\n",
      "Run Output:\n",
      "0\n",
      "1\n",
      "\n"
     ]
    }
   ],
   "source": [
    "run_test('/Users/way/projects/bril/assignment/task3/loop_optimization_2.py', '/Users/way/projects/bril/benchmarks', 'two-sum', args= [9])"
   ]
  },
  {
   "cell_type": "code",
   "execution_count": 4,
   "metadata": {},
   "outputs": [
    {
     "name": "stdout",
     "output_type": "stream",
     "text": [
      "Running test for /Users/way/projects/bril/benchmarks/core/is-decreasing.bril\n",
      "Test 'is-decreasing' ran successfully with the optimizer.\n",
      "Run Output:\n",
      "true\n",
      "\n"
     ]
    }
   ],
   "source": [
    "run_test('/Users/way/projects/bril/assignment/task3/loop_optimization_2.py', '/Users/way/projects/bril/benchmarks', 'is-decreasing', args = [954320])\n"
   ]
  },
  {
   "cell_type": "markdown",
   "metadata": {},
   "source": [
    "1794899728\n",
    "1794899728"
   ]
  },
  {
   "cell_type": "code",
   "execution_count": null,
   "metadata": {},
   "outputs": [],
   "source": []
  },
  {
   "cell_type": "code",
   "execution_count": 10,
   "metadata": {},
   "outputs": [
    {
     "name": "stdout",
     "output_type": "stream",
     "text": [
      "Running test for /Users/way/projects/bril/benchmarks/core/mod_inv.bril\n",
      "Error running pipeline:\n",
      "error: mismatched main argument arity: expected 2; got 0\n",
      "\n"
     ]
    }
   ],
   "source": [
    "run_test('/Users/way/projects/bril/assignment/task3/loop_optimization_2.py', '/Users/way/projects/bril/benchmarks', 'mod_inv')"
   ]
  },
  {
   "cell_type": "code",
   "execution_count": 11,
   "metadata": {},
   "outputs": [
    {
     "name": "stdout",
     "output_type": "stream",
     "text": [
      "Running test for /Users/way/projects/bril/benchmarks/core/up-arrow.bril\n",
      "Error running pipeline:\n",
      "error: mismatched main argument arity: expected 3; got 0\n",
      "\n"
     ]
    }
   ],
   "source": [
    "run_test('/Users/way/projects/bril/assignment/task1/trivial_dce.py', '/Users/way/projects/bril/benchmarks', 'up-arrow')"
   ]
  },
  {
   "cell_type": "code",
   "execution_count": null,
   "metadata": {},
   "outputs": [],
   "source": [
    "run_test('/Users/way/projects/bril/assignment/task1/trivial_dce.py', '/Users/way/projects/bril/benchmarks', 'up-arrow')"
   ]
  },
  {
   "cell_type": "code",
   "execution_count": null,
   "metadata": {},
   "outputs": [],
   "source": [
    "18.08314132002512409\n",
    "18.08314132002512409"
   ]
  },
  {
   "cell_type": "code",
   "execution_count": null,
   "metadata": {},
   "outputs": [],
   "source": [
    "cat /Users/way/projects/bril/benchmarks/mem/sieve.bril | bril2json | python3 /Users/way/projects/bril/assignment/task3/loop_optimization.py | brili -p"
   ]
  },
  {
   "cell_type": "code",
   "execution_count": null,
   "metadata": {},
   "outputs": [],
   "source": [
    "cat /Users/way/projects/bril/benchmarks/mem/adler32.bril | bril2json | python3 /Users/way/projects/bril/assignment/task3/loop_optimization.py | brili -p\n",
    "\n",
    "\n",
    "cat /Users/way/projects/bril/benchmarks/mem/two-sum.bril | bril2json | python3 /Users/way/projects/bril/assignment/task1/trivial_dce.py | bril2txt"
   ]
  }
 ],
 "metadata": {
  "kernelspec": {
   "display_name": "bril-env",
   "language": "python",
   "name": "python3"
  },
  "language_info": {
   "codemirror_mode": {
    "name": "ipython",
    "version": 3
   },
   "file_extension": ".py",
   "mimetype": "text/x-python",
   "name": "python",
   "nbconvert_exporter": "python",
   "pygments_lexer": "ipython3",
   "version": "3.9.6"
  }
 },
 "nbformat": 4,
 "nbformat_minor": 2
}
